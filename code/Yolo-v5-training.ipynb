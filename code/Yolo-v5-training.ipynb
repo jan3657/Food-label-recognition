{
 "cells": [
  {
   "cell_type": "code",
   "execution_count": 2,
   "metadata": {
    "collapsed": true
   },
   "outputs": [
    {
     "name": "stderr",
     "output_type": "stream",
     "text": [
      "YOLOv5 🚀 v7.0-187-g0004c74 Python-3.9.12 torch-1.12.0 CPU\n"
     ]
    },
    {
     "name": "stdout",
     "output_type": "stream",
     "text": [
      "Setup complete ✅ (8 CPUs, 16.0 GB RAM, 164.9/233.5 GB disk)\n"
     ]
    }
   ],
   "source": [
    "#!git clone https://github.com/ultralytics/yolov5  # clone\n",
    "%cd yolov5\n",
    "#%pip install -qr requirements.txt comet_ml  # install\n",
    "\n",
    "import torch\n",
    "import utils\n",
    "\n",
    "display = utils.notebook_init()  # checks"
   ]
  },
  {
   "cell_type": "code",
   "execution_count": 3,
   "outputs": [
    {
     "name": "stdout",
     "output_type": "stream",
     "text": [
      "Requirement already satisfied: tensorflowjs in /opt/anaconda3/lib/python3.9/site-packages (4.8.0)\r\n",
      "Requirement already satisfied: flax<0.6.3,>=0.6.2 in /opt/anaconda3/lib/python3.9/site-packages (from tensorflowjs) (0.6.2)\r\n",
      "Requirement already satisfied: importlib_resources>=5.9.0 in /opt/anaconda3/lib/python3.9/site-packages (from tensorflowjs) (5.12.0)\r\n",
      "Requirement already satisfied: six<2,>=1.12.0 in /opt/anaconda3/lib/python3.9/site-packages (from tensorflowjs) (1.16.0)\r\n",
      "Requirement already satisfied: jax>=0.3.16 in /opt/anaconda3/lib/python3.9/site-packages (from tensorflowjs) (0.4.13)\r\n",
      "Requirement already satisfied: packaging~=20.9 in /opt/anaconda3/lib/python3.9/site-packages (from tensorflowjs) (20.9)\r\n",
      "Requirement already satisfied: tensorflow-hub>=0.13.0 in /opt/anaconda3/lib/python3.9/site-packages (from tensorflowjs) (0.13.0)\r\n",
      "Requirement already satisfied: tensorflow<3,>=2.12.0 in /opt/anaconda3/lib/python3.9/site-packages (from tensorflowjs) (2.12.0)\r\n",
      "Requirement already satisfied: tensorflow-decision-forests>=1.3.0 in /opt/anaconda3/lib/python3.9/site-packages (from tensorflowjs) (1.3.0)\r\n",
      "Requirement already satisfied: typing-extensions>=4.1.1 in /opt/anaconda3/lib/python3.9/site-packages (from flax<0.6.3,>=0.6.2->tensorflowjs) (4.7.0)\r\n",
      "Requirement already satisfied: optax in /opt/anaconda3/lib/python3.9/site-packages (from flax<0.6.3,>=0.6.2->tensorflowjs) (0.1.5)\r\n",
      "Requirement already satisfied: msgpack in /opt/anaconda3/lib/python3.9/site-packages (from flax<0.6.3,>=0.6.2->tensorflowjs) (1.0.2)\r\n",
      "Requirement already satisfied: tensorstore in /opt/anaconda3/lib/python3.9/site-packages (from flax<0.6.3,>=0.6.2->tensorflowjs) (0.1.40)\r\n",
      "Requirement already satisfied: PyYAML>=5.4.1 in /opt/anaconda3/lib/python3.9/site-packages (from flax<0.6.3,>=0.6.2->tensorflowjs) (6.0)\r\n",
      "Requirement already satisfied: numpy>=1.12 in /opt/anaconda3/lib/python3.9/site-packages (from flax<0.6.3,>=0.6.2->tensorflowjs) (1.22.4)\r\n",
      "Requirement already satisfied: matplotlib in /opt/anaconda3/lib/python3.9/site-packages (from flax<0.6.3,>=0.6.2->tensorflowjs) (3.5.1)\r\n",
      "Requirement already satisfied: rich>=11.1 in /opt/anaconda3/lib/python3.9/site-packages (from flax<0.6.3,>=0.6.2->tensorflowjs) (13.4.2)\r\n",
      "Requirement already satisfied: zipp>=3.1.0 in /opt/anaconda3/lib/python3.9/site-packages (from importlib_resources>=5.9.0->tensorflowjs) (3.7.0)\r\n",
      "Requirement already satisfied: importlib-metadata>=4.6 in /opt/anaconda3/lib/python3.9/site-packages (from jax>=0.3.16->tensorflowjs) (4.11.3)\r\n",
      "Requirement already satisfied: scipy>=1.7 in /opt/anaconda3/lib/python3.9/site-packages (from jax>=0.3.16->tensorflowjs) (1.7.3)\r\n",
      "Requirement already satisfied: opt-einsum in /opt/anaconda3/lib/python3.9/site-packages (from jax>=0.3.16->tensorflowjs) (3.3.0)\r\n",
      "Requirement already satisfied: ml-dtypes>=0.1.0 in /opt/anaconda3/lib/python3.9/site-packages (from jax>=0.3.16->tensorflowjs) (0.2.0)\r\n",
      "Requirement already satisfied: pyparsing>=2.0.2 in /opt/anaconda3/lib/python3.9/site-packages (from packaging~=20.9->tensorflowjs) (3.0.4)\r\n",
      "Requirement already satisfied: markdown-it-py>=2.2.0 in /opt/anaconda3/lib/python3.9/site-packages (from rich>=11.1->flax<0.6.3,>=0.6.2->tensorflowjs) (3.0.0)\r\n",
      "Requirement already satisfied: pygments<3.0.0,>=2.13.0 in /opt/anaconda3/lib/python3.9/site-packages (from rich>=11.1->flax<0.6.3,>=0.6.2->tensorflowjs) (2.15.1)\r\n",
      "Requirement already satisfied: mdurl~=0.1 in /opt/anaconda3/lib/python3.9/site-packages (from markdown-it-py>=2.2.0->rich>=11.1->flax<0.6.3,>=0.6.2->tensorflowjs) (0.1.2)\r\n",
      "Requirement already satisfied: tensorboard<2.13,>=2.12 in /opt/anaconda3/lib/python3.9/site-packages (from tensorflow<3,>=2.12.0->tensorflowjs) (2.12.3)\r\n",
      "Requirement already satisfied: grpcio<2.0,>=1.24.3 in /opt/anaconda3/lib/python3.9/site-packages (from tensorflow<3,>=2.12.0->tensorflowjs) (1.56.0)\r\n",
      "Requirement already satisfied: keras<2.13,>=2.12.0 in /opt/anaconda3/lib/python3.9/site-packages (from tensorflow<3,>=2.12.0->tensorflowjs) (2.12.0)\r\n",
      "Requirement already satisfied: setuptools in /opt/anaconda3/lib/python3.9/site-packages (from tensorflow<3,>=2.12.0->tensorflowjs) (68.0.0)\r\n",
      "Requirement already satisfied: protobuf!=4.21.0,!=4.21.1,!=4.21.2,!=4.21.3,!=4.21.4,!=4.21.5,<5.0.0dev,>=3.20.3 in /opt/anaconda3/lib/python3.9/site-packages (from tensorflow<3,>=2.12.0->tensorflowjs) (4.23.3)\r\n",
      "Requirement already satisfied: gast<=0.4.0,>=0.2.1 in /opt/anaconda3/lib/python3.9/site-packages (from tensorflow<3,>=2.12.0->tensorflowjs) (0.4.0)\r\n",
      "Requirement already satisfied: google-pasta>=0.1.1 in /opt/anaconda3/lib/python3.9/site-packages (from tensorflow<3,>=2.12.0->tensorflowjs) (0.2.0)\r\n",
      "Requirement already satisfied: termcolor>=1.1.0 in /opt/anaconda3/lib/python3.9/site-packages (from tensorflow<3,>=2.12.0->tensorflowjs) (2.3.0)\r\n",
      "Requirement already satisfied: wrapt<1.15,>=1.11.0 in /opt/anaconda3/lib/python3.9/site-packages (from tensorflow<3,>=2.12.0->tensorflowjs) (1.12.1)\r\n",
      "Requirement already satisfied: libclang>=13.0.0 in /opt/anaconda3/lib/python3.9/site-packages (from tensorflow<3,>=2.12.0->tensorflowjs) (16.0.0)\r\n",
      "Requirement already satisfied: h5py>=2.9.0 in /opt/anaconda3/lib/python3.9/site-packages (from tensorflow<3,>=2.12.0->tensorflowjs) (3.6.0)\r\n",
      "Requirement already satisfied: absl-py>=1.0.0 in /opt/anaconda3/lib/python3.9/site-packages (from tensorflow<3,>=2.12.0->tensorflowjs) (1.4.0)\r\n",
      "Requirement already satisfied: tensorflow-estimator<2.13,>=2.12.0 in /opt/anaconda3/lib/python3.9/site-packages (from tensorflow<3,>=2.12.0->tensorflowjs) (2.12.0)\r\n",
      "Requirement already satisfied: flatbuffers>=2.0 in /opt/anaconda3/lib/python3.9/site-packages (from tensorflow<3,>=2.12.0->tensorflowjs) (23.5.26)\r\n",
      "Requirement already satisfied: astunparse>=1.6.0 in /opt/anaconda3/lib/python3.9/site-packages (from tensorflow<3,>=2.12.0->tensorflowjs) (1.6.3)\r\n",
      "Requirement already satisfied: tensorflow-io-gcs-filesystem>=0.23.1 in /opt/anaconda3/lib/python3.9/site-packages (from tensorflow<3,>=2.12.0->tensorflowjs) (0.32.0)\r\n",
      "Requirement already satisfied: wheel<1.0,>=0.23.0 in /opt/anaconda3/lib/python3.9/site-packages (from astunparse>=1.6.0->tensorflow<3,>=2.12.0->tensorflowjs) (0.37.1)\r\n",
      "Requirement already satisfied: markdown>=2.6.8 in /opt/anaconda3/lib/python3.9/site-packages (from tensorboard<2.13,>=2.12->tensorflow<3,>=2.12.0->tensorflowjs) (3.3.4)\r\n",
      "Requirement already satisfied: requests<3,>=2.21.0 in /opt/anaconda3/lib/python3.9/site-packages (from tensorboard<2.13,>=2.12->tensorflow<3,>=2.12.0->tensorflowjs) (2.27.1)\r\n",
      "Requirement already satisfied: google-auth<3,>=1.6.3 in /opt/anaconda3/lib/python3.9/site-packages (from tensorboard<2.13,>=2.12->tensorflow<3,>=2.12.0->tensorflowjs) (2.21.0)\r\n",
      "Requirement already satisfied: google-auth-oauthlib<1.1,>=0.5 in /opt/anaconda3/lib/python3.9/site-packages (from tensorboard<2.13,>=2.12->tensorflow<3,>=2.12.0->tensorflowjs) (1.0.0)\r\n",
      "Requirement already satisfied: tensorboard-data-server<0.8.0,>=0.7.0 in /opt/anaconda3/lib/python3.9/site-packages (from tensorboard<2.13,>=2.12->tensorflow<3,>=2.12.0->tensorflowjs) (0.7.1)\r\n",
      "Requirement already satisfied: werkzeug>=1.0.1 in /opt/anaconda3/lib/python3.9/site-packages (from tensorboard<2.13,>=2.12->tensorflow<3,>=2.12.0->tensorflowjs) (2.0.3)\r\n",
      "Requirement already satisfied: rsa<5,>=3.1.4 in /opt/anaconda3/lib/python3.9/site-packages (from google-auth<3,>=1.6.3->tensorboard<2.13,>=2.12->tensorflow<3,>=2.12.0->tensorflowjs) (4.7.2)\r\n",
      "Requirement already satisfied: urllib3<2.0 in /opt/anaconda3/lib/python3.9/site-packages (from google-auth<3,>=1.6.3->tensorboard<2.13,>=2.12->tensorflow<3,>=2.12.0->tensorflowjs) (1.26.16)\r\n",
      "Requirement already satisfied: cachetools<6.0,>=2.0.0 in /opt/anaconda3/lib/python3.9/site-packages (from google-auth<3,>=1.6.3->tensorboard<2.13,>=2.12->tensorflow<3,>=2.12.0->tensorflowjs) (4.2.2)\r\n",
      "Requirement already satisfied: pyasn1-modules>=0.2.1 in /opt/anaconda3/lib/python3.9/site-packages (from google-auth<3,>=1.6.3->tensorboard<2.13,>=2.12->tensorflow<3,>=2.12.0->tensorflowjs) (0.2.8)\r\n",
      "Requirement already satisfied: requests-oauthlib>=0.7.0 in /opt/anaconda3/lib/python3.9/site-packages (from google-auth-oauthlib<1.1,>=0.5->tensorboard<2.13,>=2.12->tensorflow<3,>=2.12.0->tensorflowjs) (1.3.1)\r\n",
      "Requirement already satisfied: pyasn1<0.5.0,>=0.4.6 in /opt/anaconda3/lib/python3.9/site-packages (from pyasn1-modules>=0.2.1->google-auth<3,>=1.6.3->tensorboard<2.13,>=2.12->tensorflow<3,>=2.12.0->tensorflowjs) (0.4.8)\r\n",
      "Requirement already satisfied: idna<4,>=2.5 in /opt/anaconda3/lib/python3.9/site-packages (from requests<3,>=2.21.0->tensorboard<2.13,>=2.12->tensorflow<3,>=2.12.0->tensorflowjs) (3.3)\r\n",
      "Requirement already satisfied: charset-normalizer~=2.0.0 in /opt/anaconda3/lib/python3.9/site-packages (from requests<3,>=2.21.0->tensorboard<2.13,>=2.12->tensorflow<3,>=2.12.0->tensorflowjs) (2.0.4)\r\n",
      "Requirement already satisfied: certifi>=2017.4.17 in /opt/anaconda3/lib/python3.9/site-packages (from requests<3,>=2.21.0->tensorboard<2.13,>=2.12->tensorflow<3,>=2.12.0->tensorflowjs) (2021.10.8)\r\n",
      "Requirement already satisfied: oauthlib>=3.0.0 in /opt/anaconda3/lib/python3.9/site-packages (from requests-oauthlib>=0.7.0->google-auth-oauthlib<1.1,>=0.5->tensorboard<2.13,>=2.12->tensorflow<3,>=2.12.0->tensorflowjs) (3.2.2)\r\n",
      "Requirement already satisfied: pandas in /opt/anaconda3/lib/python3.9/site-packages (from tensorflow-decision-forests>=1.3.0->tensorflowjs) (1.4.2)\r\n",
      "Requirement already satisfied: wurlitzer in /opt/anaconda3/lib/python3.9/site-packages (from tensorflow-decision-forests>=1.3.0->tensorflowjs) (3.0.2)\r\n",
      "Requirement already satisfied: pillow>=6.2.0 in /opt/anaconda3/lib/python3.9/site-packages (from matplotlib->flax<0.6.3,>=0.6.2->tensorflowjs) (9.0.1)\r\n",
      "Requirement already satisfied: fonttools>=4.22.0 in /opt/anaconda3/lib/python3.9/site-packages (from matplotlib->flax<0.6.3,>=0.6.2->tensorflowjs) (4.25.0)\r\n",
      "Requirement already satisfied: python-dateutil>=2.7 in /opt/anaconda3/lib/python3.9/site-packages (from matplotlib->flax<0.6.3,>=0.6.2->tensorflowjs) (2.8.2)\r\n",
      "Requirement already satisfied: cycler>=0.10 in /opt/anaconda3/lib/python3.9/site-packages (from matplotlib->flax<0.6.3,>=0.6.2->tensorflowjs) (0.11.0)\r\n",
      "Requirement already satisfied: kiwisolver>=1.0.1 in /opt/anaconda3/lib/python3.9/site-packages (from matplotlib->flax<0.6.3,>=0.6.2->tensorflowjs) (1.3.2)\r\n",
      "Requirement already satisfied: jaxlib>=0.1.37 in /opt/anaconda3/lib/python3.9/site-packages (from optax->flax<0.6.3,>=0.6.2->tensorflowjs) (0.4.13)\r\n",
      "Requirement already satisfied: chex>=0.1.5 in /opt/anaconda3/lib/python3.9/site-packages (from optax->flax<0.6.3,>=0.6.2->tensorflowjs) (0.1.7)\r\n",
      "Requirement already satisfied: dm-tree>=0.1.5 in /opt/anaconda3/lib/python3.9/site-packages (from chex>=0.1.5->optax->flax<0.6.3,>=0.6.2->tensorflowjs) (0.1.8)\r\n",
      "Requirement already satisfied: toolz>=0.9.0 in /opt/anaconda3/lib/python3.9/site-packages (from chex>=0.1.5->optax->flax<0.6.3,>=0.6.2->tensorflowjs) (0.11.2)\r\n",
      "Requirement already satisfied: pytz>=2020.1 in /opt/anaconda3/lib/python3.9/site-packages (from pandas->tensorflow-decision-forests>=1.3.0->tensorflowjs) (2021.3)\r\n"
     ]
    }
   ],
   "source": [
    "!pip install -qr requirements.txt\n",
    "!pip install tensorflowjs"
   ],
   "metadata": {
    "collapsed": false
   }
  },
  {
   "cell_type": "code",
   "execution_count": 4,
   "outputs": [
    {
     "name": "stdout",
     "output_type": "stream",
     "text": [
      "Note: you may need to restart the kernel to use updated packages.\n"
     ]
    }
   ],
   "source": [
    "#@title Select YOLOv5 🚀 logger {run: 'auto'}\n",
    "logger = 'Comet' #@param ['Comet', 'ClearML', 'TensorBoard']\n",
    "\n",
    "if logger == 'Comet':\n",
    "  %pip install -q comet_ml\n",
    "  import comet_ml; comet_ml.init()\n",
    "elif logger == 'ClearML':\n",
    "  %pip install -q clearml\n",
    "  import clearml; clearml.browser_login()\n",
    "elif logger == 'TensorBoard':\n",
    "  %load_ext tensorboard\n",
    "  %tensorboard --logdir runs/train"
   ],
   "metadata": {
    "collapsed": false
   }
  },
  {
   "cell_type": "code",
   "execution_count": null,
   "outputs": [],
   "source": [
    "# Train YOLOv5s for 32 epochs\n",
    "!python train.py --img 640 --batch 4 --epochs 32 --data FoodLabels.yaml --weights yolov5x.pt --nosave --cache"
   ],
   "metadata": {
    "collapsed": false
   }
  },
  {
   "cell_type": "markdown",
   "source": [],
   "metadata": {
    "collapsed": false
   }
  },
  {
   "cell_type": "code",
   "execution_count": 5,
   "outputs": [
    {
     "name": "stdout",
     "output_type": "stream",
     "text": [
      "\u001B[34m\u001B[1mexport: \u001B[0mdata=data/coco128.yaml, weights=['models/best.pt'], imgsz=[640, 640], batch_size=1, device=cpu, half=False, inplace=False, keras=False, optimize=False, int8=False, dynamic=False, simplify=False, opset=17, verbose=False, workspace=4, nms=False, agnostic_nms=False, topk_per_class=100, topk_all=100, iou_thres=0.45, conf_thres=0.25, include=['tfjs']\r\n",
      "YOLOv5 🚀 v7.0-187-g0004c74 Python-3.9.12 torch-1.12.0 CPU\r\n",
      "\r\n",
      "Fusing layers... \r\n",
      "Model summary: 322 layers, 86207059 parameters, 0 gradients, 203.9 GFLOPs\r\n",
      "\r\n",
      "\u001B[34m\u001B[1mPyTorch:\u001B[0m starting from models/best.pt with output shape (1, 25200, 11) (165.0 MB)\r\n",
      "\r\n",
      "\u001B[34m\u001B[1mTensorFlow SavedModel:\u001B[0m starting export with tensorflow 2.12.0...\r\n",
      "\r\n",
      "                 from  n    params  module                                  arguments                     \r\n",
      "  0                -1  1      8800  models.common.Conv                      [3, 80, 6, 2, 2]              \r\n",
      "  1                -1  1    115520  models.common.Conv                      [80, 160, 3, 2]               \r\n",
      "  2                -1  1    309120  models.common.C3                        [160, 160, 4]                 \r\n",
      "  3                -1  1    461440  models.common.Conv                      [160, 320, 3, 2]              \r\n",
      "  4                -1  1   2259200  models.common.C3                        [320, 320, 8]                 \r\n",
      "  5                -1  1   1844480  models.common.Conv                      [320, 640, 3, 2]              \r\n",
      "  6                -1  1  13125120  models.common.C3                        [640, 640, 12]                \r\n",
      "  7                -1  1   7375360  models.common.Conv                      [640, 1280, 3, 2]             \r\n",
      "  8                -1  1  19676160  models.common.C3                        [1280, 1280, 4]               \r\n",
      "  9                -1  1   4099840  models.common.SPPF                      [1280, 1280, 5]               \r\n",
      " 10                -1  1    820480  models.common.Conv                      [1280, 640, 1, 1]             \r\n",
      " 11                -1  1         0  torch.nn.modules.upsampling.Upsample    [None, 2, 'nearest']          \r\n",
      " 12           [-1, 6]  1         0  models.common.Concat                    [1]                           \r\n",
      " 13                -1  1   5332480  models.common.C3                        [1280, 640, 4, False]         \r\n",
      " 14                -1  1    205440  models.common.Conv                      [640, 320, 1, 1]              \r\n",
      " 15                -1  1         0  torch.nn.modules.upsampling.Upsample    [None, 2, 'nearest']          \r\n",
      " 16           [-1, 4]  1         0  models.common.Concat                    [1]                           \r\n",
      " 17                -1  1   1335040  models.common.C3                        [640, 320, 4, False]          \r\n",
      " 18                -1  1    922240  models.common.Conv                      [320, 320, 3, 2]              \r\n",
      " 19          [-1, 14]  1         0  models.common.Concat                    [1]                           \r\n",
      " 20                -1  1   4922880  models.common.C3                        [640, 640, 4, False]          \r\n",
      " 21                -1  1   3687680  models.common.Conv                      [640, 640, 3, 2]              \r\n",
      " 22          [-1, 10]  1         0  models.common.Concat                    [1]                           \r\n",
      " 23                -1  1  19676160  models.common.C3                        [1280, 1280, 4, False]        \r\n",
      " 24      [17, 20, 23]  1     74019  models.yolo.Detect                      [6, [[10, 13, 16, 30, 33, 23], [30, 61, 62, 45, 59, 119], [116, 90, 156, 198, 373, 326]], [320, 640, 1280], [640, 640]]\r\n",
      "Model: \"model\"\r\n",
      "__________________________________________________________________________________________________\r\n",
      " Layer (type)                   Output Shape         Param #     Connected to                     \r\n",
      "==================================================================================================\r\n",
      " input_1 (InputLayer)           [(1, 640, 640, 3)]   0           []                               \r\n",
      "                                                                                                  \r\n",
      " tf_conv (TFConv)               (1, 320, 320, 80)    8720        ['input_1[0][0]']                \r\n",
      "                                                                                                  \r\n",
      " tf_conv_1 (TFConv)             (1, 160, 160, 160)   115360      ['tf_conv[0][0]']                \r\n",
      "                                                                                                  \r\n",
      " tfc3 (TFC3)                    (1, 160, 160, 160)   308160      ['tf_conv_1[0][0]']              \r\n",
      "                                                                                                  \r\n",
      " tf_conv_13 (TFConv)            (1, 80, 80, 320)     461120      ['tfc3[0][0]']                   \r\n",
      "                                                                                                  \r\n",
      " tfc3_1 (TFC3)                  (1, 80, 80, 320)     2256000     ['tf_conv_13[0][0]']             \r\n",
      "                                                                                                  \r\n",
      " tf_conv_33 (TFConv)            (1, 40, 40, 640)     1843840     ['tfc3_1[0][0]']                 \r\n",
      "                                                                                                  \r\n",
      " tfc3_2 (TFC3)                  (1, 40, 40, 640)     13116160    ['tf_conv_33[0][0]']             \r\n",
      "                                                                                                  \r\n",
      " tf_conv_61 (TFConv)            (1, 20, 20, 1280)    7374080     ['tfc3_2[0][0]']                 \r\n",
      "                                                                                                  \r\n",
      " tfc3_3 (TFC3)                  (1, 20, 20, 1280)    19668480    ['tf_conv_61[0][0]']             \r\n",
      "                                                                                                  \r\n",
      " tfsppf (TFSPPF)                (1, 20, 20, 1280)    4097920     ['tfc3_3[0][0]']                 \r\n",
      "                                                                                                  \r\n",
      " tf_conv_75 (TFConv)            (1, 20, 20, 640)     819840      ['tfsppf[0][0]']                 \r\n",
      "                                                                                                  \r\n",
      " tf_upsample (TFUpsample)       (1, 40, 40, 640)     0           ['tf_conv_75[0][0]']             \r\n",
      "                                                                                                  \r\n",
      " tf_concat (TFConcat)           (1, 40, 40, 1280)    0           ['tf_upsample[0][0]',            \r\n",
      "                                                                  'tfc3_2[0][0]']                 \r\n",
      "                                                                                                  \r\n",
      " tfc3_4 (TFC3)                  (1, 40, 40, 640)     5328640     ['tf_concat[0][0]']              \r\n",
      "                                                                                                  \r\n",
      " tf_conv_87 (TFConv)            (1, 40, 40, 320)     205120      ['tfc3_4[0][0]']                 \r\n",
      "                                                                                                  \r\n",
      " tf_upsample_1 (TFUpsample)     (1, 80, 80, 320)     0           ['tf_conv_87[0][0]']             \r\n",
      "                                                                                                  \r\n",
      " tf_concat_1 (TFConcat)         (1, 80, 80, 640)     0           ['tf_upsample_1[0][0]',          \r\n",
      "                                                                  'tfc3_1[0][0]']                 \r\n",
      "                                                                                                  \r\n",
      " tfc3_5 (TFC3)                  (1, 80, 80, 320)     1333120     ['tf_concat_1[0][0]']            \r\n",
      "                                                                                                  \r\n",
      " tf_conv_99 (TFConv)            (1, 40, 40, 320)     921920      ['tfc3_5[0][0]']                 \r\n",
      "                                                                                                  \r\n",
      " tf_concat_2 (TFConcat)         (1, 40, 40, 640)     0           ['tf_conv_99[0][0]',             \r\n",
      "                                                                  'tf_conv_87[0][0]']             \r\n",
      "                                                                                                  \r\n",
      " tfc3_6 (TFC3)                  (1, 40, 40, 640)     4919040     ['tf_concat_2[0][0]']            \r\n",
      "                                                                                                  \r\n",
      " tf_conv_111 (TFConv)           (1, 20, 20, 640)     3687040     ['tfc3_6[0][0]']                 \r\n",
      "                                                                                                  \r\n",
      " tf_concat_3 (TFConcat)         (1, 20, 20, 1280)    0           ['tf_conv_111[0][0]',            \r\n",
      "                                                                  'tf_conv_75[0][0]']             \r\n",
      "                                                                                                  \r\n",
      " tfc3_7 (TFC3)                  (1, 20, 20, 1280)    19668480    ['tf_concat_3[0][0]']            \r\n",
      "                                                                                                  \r\n",
      " tf_detect (TFDetect)           ((1, 25200, 11),     74019       ['tfc3_5[0][0]',                 \r\n",
      "                                )                                 'tfc3_6[0][0]',                 \r\n",
      "                                                                  'tfc3_7[0][0]']                 \r\n",
      "                                                                                                  \r\n",
      " tf.__operators__.getitem (Slic  (1, 25200, 4)       0           ['tf_detect[0][0]']              \r\n",
      " ingOpLambda)                                                                                     \r\n",
      "                                                                                                  \r\n",
      " tf.split (TFOpLambda)          [(1, 25200, 1),      0           ['tf.__operators__.getitem[0][0]'\r\n",
      "                                 (1, 25200, 1),                  ]                                \r\n",
      "                                 (1, 25200, 1),                                                   \r\n",
      "                                 (1, 25200, 1)]                                                   \r\n",
      "                                                                                                  \r\n",
      " tf.math.truediv (TFOpLambda)   (1, 25200, 1)        0           ['tf.split[0][2]']               \r\n",
      "                                                                                                  \r\n",
      " tf.math.truediv_1 (TFOpLambda)  (1, 25200, 1)       0           ['tf.split[0][3]']               \r\n",
      "                                                                                                  \r\n",
      " tf.math.truediv_2 (TFOpLambda)  (1, 25200, 1)       0           ['tf.split[0][2]']               \r\n",
      "                                                                                                  \r\n",
      " tf.math.truediv_3 (TFOpLambda)  (1, 25200, 1)       0           ['tf.split[0][3]']               \r\n",
      "                                                                                                  \r\n",
      " tf.math.subtract (TFOpLambda)  (1, 25200, 1)        0           ['tf.split[0][0]',               \r\n",
      "                                                                  'tf.math.truediv[0][0]']        \r\n",
      "                                                                                                  \r\n",
      " tf.math.subtract_1 (TFOpLambda  (1, 25200, 1)       0           ['tf.split[0][1]',               \r\n",
      " )                                                                'tf.math.truediv_1[0][0]']      \r\n",
      "                                                                                                  \r\n",
      " tf.__operators__.add (TFOpLamb  (1, 25200, 1)       0           ['tf.split[0][0]',               \r\n",
      " da)                                                              'tf.math.truediv_2[0][0]']      \r\n",
      "                                                                                                  \r\n",
      " tf.__operators__.add_1 (TFOpLa  (1, 25200, 1)       0           ['tf.split[0][1]',               \r\n",
      " mbda)                                                            'tf.math.truediv_3[0][0]']      \r\n",
      "                                                                                                  \r\n",
      " tf.__operators__.getitem_2 (Sl  (1, 25200, 6)       0           ['tf_detect[0][0]']              \r\n",
      " icingOpLambda)                                                                                   \r\n",
      "                                                                                                  \r\n",
      " tf.__operators__.getitem_1 (Sl  (1, 25200, 1)       0           ['tf_detect[0][0]']              \r\n",
      " icingOpLambda)                                                                                   \r\n",
      "                                                                                                  \r\n",
      " tf.concat (TFOpLambda)         (1, 25200, 4)        0           ['tf.math.subtract[0][0]',       \r\n",
      "                                                                  'tf.math.subtract_1[0][0]',     \r\n",
      "                                                                  'tf.__operators__.add[0][0]',   \r\n",
      "                                                                  'tf.__operators__.add_1[0][0]'] \r\n",
      "                                                                                                  \r\n",
      " tf.math.multiply (TFOpLambda)  (1, 25200, 6)        0           ['tf.__operators__.getitem_1[0][0\r\n",
      "                                                                 ]',                              \r\n",
      "                                                                  'tf.__operators__.getitem_2[0][0\r\n",
      "                                                                 ]']                              \r\n",
      "                                                                                                  \r\n",
      " agnostic_nms_1 (AgnosticNMS)   ((1, None, 4),       0           ['tf.concat[0][0]',              \r\n",
      "                                 (1, None),                       'tf.__operators__.getitem_2[0][0\r\n",
      "                                 (1, None),                      ]',                              \r\n",
      "                                 (1,))                            'tf.math.multiply[0][0]']       \r\n",
      "                                                                                                  \r\n",
      "==================================================================================================\r\n",
      "Total params: 86,207,059\r\n",
      "Trainable params: 0\r\n",
      "Non-trainable params: 86,207,059\r\n",
      "__________________________________________________________________________________________________\r\n",
      "\u001B[34m\u001B[1mTensorFlow SavedModel:\u001B[0m export success ✅ 65.6s, saved as models/best_saved_model (329.4 MB)\r\n",
      "\r\n",
      "\u001B[34m\u001B[1mTensorFlow GraphDef:\u001B[0m starting export with tensorflow 2.12.0...\r\n",
      "\u001B[34m\u001B[1mTensorFlow GraphDef:\u001B[0m export success ✅ 15.4s, saved as models/best.pb (329.3 MB)\r\n",
      "\r\n",
      "\u001B[34m\u001B[1mTensorFlow.js:\u001B[0m starting export with tensorflowjs 4.8.0...\r\n",
      "\u001B[34m\u001B[1mTensorFlow.js:\u001B[0m export failure ❌ 0.8s: [Errno 2] No such file or directory: 'tensorflowjs_converter'\r\n",
      "\r\n",
      "Export complete (86.3s)\r\n",
      "Results saved to \u001B[1m/Users/jandrole/projects/Food-label-recognition/yolov5/models\u001B[0m\r\n",
      "Detect:          python detect.py --weights models/best.pb \r\n",
      "Validate:        python val.py --weights models/best.pb \r\n",
      "PyTorch Hub:     model = torch.hub.load('ultralytics/yolov5', 'custom', 'models/best.pb')  \r\n",
      "Visualize:       https://netron.app\r\n"
     ]
    }
   ],
   "source": [
    "!python export.py --weights models/best.pt --include tfjs"
   ],
   "metadata": {
    "collapsed": false
   }
  },
  {
   "cell_type": "code",
   "execution_count": null,
   "outputs": [],
   "source": [],
   "metadata": {
    "collapsed": false
   }
  },
  {
   "cell_type": "code",
   "execution_count": null,
   "outputs": [],
   "source": [],
   "metadata": {
    "collapsed": false
   }
  }
 ],
 "metadata": {
  "kernelspec": {
   "display_name": "Python 3",
   "language": "python",
   "name": "python3"
  },
  "language_info": {
   "codemirror_mode": {
    "name": "ipython",
    "version": 2
   },
   "file_extension": ".py",
   "mimetype": "text/x-python",
   "name": "python",
   "nbconvert_exporter": "python",
   "pygments_lexer": "ipython2",
   "version": "2.7.6"
  }
 },
 "nbformat": 4,
 "nbformat_minor": 0
}
